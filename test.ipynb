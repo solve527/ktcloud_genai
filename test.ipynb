{
  "nbformat": 4,
  "nbformat_minor": 0,
  "metadata": {
    "colab": {
      "provenance": [],
      "authorship_tag": "ABX9TyPLaLISvnOz7I9QnUmohYn0",
      "include_colab_link": true
    },
    "kernelspec": {
      "name": "python3",
      "display_name": "Python 3"
    },
    "language_info": {
      "name": "python"
    }
  },
  "cells": [
    {
      "cell_type": "markdown",
      "metadata": {
        "id": "view-in-github",
        "colab_type": "text"
      },
      "source": [
        "<a href=\"https://colab.research.google.com/github/solve527/ktcloud_genai/blob/main/test.ipynb\" target=\"_parent\"><img src=\"https://colab.research.google.com/assets/colab-badge.svg\" alt=\"Open In Colab\"/></a>"
      ]
    },
    {
      "cell_type": "markdown",
      "source": [
        "\n",
        "\n",
        "학습 환경 구성\n",
        "\n"
      ],
      "metadata": {
        "id": "2RSL74DMjDLA"
      }
    },
    {
      "cell_type": "code",
      "execution_count": null,
      "metadata": {
        "id": "iS36TI10iPC3"
      },
      "outputs": [],
      "source": []
    },
    {
      "cell_type": "code",
      "source": [],
      "metadata": {
        "id": "h8tldwSAv9Cc"
      },
      "execution_count": null,
      "outputs": []
    },
    {
      "cell_type": "markdown",
      "source": [
        "# 새 섹션"
      ],
      "metadata": {
        "id": "Yf_jVq6hjqrW"
      }
    },
    {
      "cell_type": "markdown",
      "source": [],
      "metadata": {
        "id": "9lrGFHx0lkmI"
      }
    },
    {
      "cell_type": "code",
      "source": [],
      "metadata": {
        "id": "1PS1x9rElk5Y"
      },
      "execution_count": null,
      "outputs": []
    },
    {
      "cell_type": "markdown",
      "source": [],
      "metadata": {
        "id": "7cjVDADQllUs"
      }
    },
    {
      "cell_type": "markdown",
      "source": [
        "# 학습 환경 구성"
      ],
      "metadata": {
        "id": "nOgYide7jsnS"
      }
    },
    {
      "cell_type": "markdown",
      "source": [
        "# 1. 파이썬 버전 확인"
      ],
      "metadata": {
        "id": "qorn185cjtqN"
      }
    }
  ]
}